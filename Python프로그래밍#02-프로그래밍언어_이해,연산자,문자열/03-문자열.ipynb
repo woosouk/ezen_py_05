{
 "cells": [
  {
   "cell_type": "markdown",
   "metadata": {},
   "source": [
    "# 문자열\n",
    "\n",
    "## 문자열의 기본 특성"
   ]
  },
  {
   "cell_type": "code",
   "execution_count": 1,
   "metadata": {},
   "outputs": [
    {
     "name": "stdout",
     "output_type": "stream",
     "text": [
      "Life is too short\n",
      "You need Python\n"
     ]
    }
   ],
   "source": [
    "# 쌍따옴표나 홑따옴표로 감싸야 한다. -> 따옴표의 혼용은 불가.\n",
    "msg1 = \"Life is too short\"\n",
    "msg2 = 'You need Python'\n",
    "print(msg1)\n",
    "print(msg2)"
   ]
  },
  {
   "cell_type": "markdown",
   "metadata": {},
   "source": [
    "## 문자열 연산 규칙"
   ]
  },
  {
   "cell_type": "code",
   "execution_count": 2,
   "metadata": {},
   "outputs": [
    {
     "name": "stdout",
     "output_type": "stream",
     "text": [
      "Life is too short, You need Python\n"
     ]
    }
   ],
   "source": [
    "# 문자열의 덧셈은 문자열을 연결하는 기능\n",
    "print( msg1 + \", \" + msg2 )"
   ]
  },
  {
   "cell_type": "code",
   "execution_count": 15,
   "metadata": {},
   "outputs": [
    {
     "name": "stdout",
     "output_type": "stream",
     "text": [
      "PythonPythonPythonPythonPython\n"
     ]
    }
   ],
   "source": [
    "# 문자열과 숫자의 곱셈은 동일 내용을 여러번 반복한다.\n",
    "name = \"Python\"\n",
    "print(name * 5)"
   ]
  },
  {
   "cell_type": "code",
   "execution_count": 4,
   "metadata": {},
   "outputs": [
    {
     "name": "stdout",
     "output_type": "stream",
     "text": [
      "20000100\n"
     ]
    }
   ],
   "source": [
    "# 따옴표로 감싸면 무조건 문장.\n",
    "# -> 숫자가 아니므로 연산 결과도 문자열 연산 규칙을 따른다.\n",
    "pay = \"20000\"\n",
    "bonus = \"100\"\n",
    "print( pay + bonus )"
   ]
  },
  {
   "cell_type": "markdown",
   "metadata": {},
   "source": [
    "## 이스케이프 문자 사용하기"
   ]
  },
  {
   "cell_type": "code",
   "execution_count": 6,
   "metadata": {},
   "outputs": [
    {
     "name": "stdout",
     "output_type": "stream",
     "text": [
      "Life is \"too\" short\n"
     ]
    }
   ],
   "source": [
    "# 쌍따옴표 안에 쌍따옴표 넣기 -> 이스케이프 문자 사용\n",
    "case1 = \"Life is \\\"too\\\" short\"\n",
    "print(case1)"
   ]
  },
  {
   "cell_type": "code",
   "execution_count": 7,
   "metadata": {},
   "outputs": [
    {
     "name": "stdout",
     "output_type": "stream",
     "text": [
      "Life is 'too' short\n"
     ]
    }
   ],
   "source": [
    "# 홑따옴표 안에 홑따옴표 넣기 -> 이스케이프 문자 사용\n",
    "case2 = 'Life is \\'too\\' short'\n",
    "print(case2)"
   ]
  },
  {
   "cell_type": "code",
   "execution_count": 16,
   "metadata": {},
   "outputs": [
    {
     "name": "stdout",
     "output_type": "stream",
     "text": [
      "You 'need' Python\n"
     ]
    }
   ],
   "source": [
    "# 따옴표의 쌍을 조절하는 방법\n",
    "case3 = \"You 'need' Python\"\n",
    "print(case3)"
   ]
  },
  {
   "cell_type": "code",
   "execution_count": 10,
   "metadata": {},
   "outputs": [
    {
     "name": "stdout",
     "output_type": "stream",
     "text": [
      "You \"need\" Python\n"
     ]
    }
   ],
   "source": [
    "case4 = 'You \"need\" Python'\n",
    "print(case4)"
   ]
  },
  {
   "cell_type": "markdown",
   "metadata": {},
   "source": [
    "## 이스케이프 문자를 활용하여 줄바꿈, 탭키 등을 표현하기"
   ]
  },
  {
   "cell_type": "code",
   "execution_count": 11,
   "metadata": {},
   "outputs": [
    {
     "name": "stdout",
     "output_type": "stream",
     "text": [
      "Life is too short\n",
      "You need Python\n"
     ]
    }
   ],
   "source": [
    "# 줄바꿈 => \\n\n",
    "print(\"Life is too short\\nYou need Python\")"
   ]
  },
  {
   "cell_type": "code",
   "execution_count": 12,
   "metadata": {},
   "outputs": [
    {
     "name": "stdout",
     "output_type": "stream",
     "text": [
      "Life is too short\tYou need Python\n"
     ]
    }
   ],
   "source": [
    "# 탭키 => \\t\n",
    "print(\"Life is too short\\tYou need Python\")"
   ]
  },
  {
   "cell_type": "code",
   "execution_count": 13,
   "metadata": {},
   "outputs": [
    {
     "name": "stdout",
     "output_type": "stream",
     "text": [
      "Life is too short\\You need Python\n"
     ]
    }
   ],
   "source": [
    "# 순수한 역슬래시 출력 => \\\\\n",
    "print(\"Life is too short\\\\You need Python\")"
   ]
  },
  {
   "cell_type": "markdown",
   "metadata": {},
   "source": [
    "## 문자열 인덱싱"
   ]
  },
  {
   "cell_type": "code",
   "execution_count": 17,
   "metadata": {},
   "outputs": [
    {
     "name": "stdout",
     "output_type": "stream",
     "text": [
      "e\n"
     ]
    }
   ],
   "source": [
    "str = \"Life is too short, You need Python\"\n",
    "\n",
    "# 3번째 문자 추출 -> 0부터 카운트\n",
    "print( str[3] )"
   ]
  },
  {
   "cell_type": "code",
   "execution_count": 18,
   "metadata": {},
   "outputs": [
    {
     "name": "stdout",
     "output_type": "stream",
     "text": [
      "h\n"
     ]
    }
   ],
   "source": [
    "# 뒤에서 3번째 글자 추출 -> -1부터 카운트\n",
    "# (0과 -0이 같은 값이기 때문)\n",
    "print( str[-3] )"
   ]
  },
  {
   "cell_type": "markdown",
   "metadata": {},
   "source": [
    "## 문자열 슬라이싱"
   ]
  },
  {
   "cell_type": "code",
   "execution_count": 19,
   "metadata": {},
   "outputs": [
    {
     "name": "stdout",
     "output_type": "stream",
     "text": [
      "Lif\n"
     ]
    }
   ],
   "source": [
    "# 앞에서 0번째 부터 3번째 전 까지의 문자 추출\n",
    "print( str[0:3] )"
   ]
  },
  {
   "cell_type": "code",
   "execution_count": 20,
   "metadata": {},
   "outputs": [
    {
     "name": "stdout",
     "output_type": "stream",
     "text": [
      "is\n"
     ]
    }
   ],
   "source": [
    "# 앞에서 5번째 부터 7번째 전 까지의 문자 추출\n",
    "print( str[5:7] )"
   ]
  },
  {
   "cell_type": "code",
   "execution_count": 21,
   "metadata": {},
   "outputs": [
    {
     "name": "stdout",
     "output_type": "stream",
     "text": [
      "You need Python\n"
     ]
    }
   ],
   "source": [
    "# 앞에서 19번째 부터 끝까지 추출\n",
    "print( str[19:] )"
   ]
  },
  {
   "cell_type": "code",
   "execution_count": 22,
   "metadata": {},
   "outputs": [
    {
     "name": "stdout",
     "output_type": "stream",
     "text": [
      "Life is too short\n"
     ]
    }
   ],
   "source": [
    "# 처음부터 앞에서 17번 전 까지의 문자 추출\n",
    "print( str[:17] )"
   ]
  },
  {
   "cell_type": "code",
   "execution_count": 23,
   "metadata": {},
   "outputs": [
    {
     "name": "stdout",
     "output_type": "stream",
     "text": [
      "Life is too short, You need Python\n"
     ]
    }
   ],
   "source": [
    "# 처음부터 끝까지 추출\n",
    "print( str[:] )"
   ]
  },
  {
   "cell_type": "code",
   "execution_count": 24,
   "metadata": {},
   "outputs": [
    {
     "name": "stdout",
     "output_type": "stream",
     "text": [
      "You need\n"
     ]
    }
   ],
   "source": [
    "# 앞에서 19번째부터 뒤에서 -7번째 다음까지 추출\n",
    "print( str[19:-7] )"
   ]
  },
  {
   "cell_type": "markdown",
   "metadata": {},
   "source": [
    "## 문자열 슬라이싱 활용 예시"
   ]
  },
  {
   "cell_type": "code",
   "execution_count": 25,
   "metadata": {},
   "outputs": [
    {
     "name": "stdout",
     "output_type": "stream",
     "text": [
      "800527\n",
      "1\n"
     ]
    }
   ],
   "source": [
    "# [응용] 글자수가 정해져 있는 경우 활용도 높음\n",
    "# ex) \"80년05월27일 남자\"의 주민번호 일부\n",
    "jumin = \"8005271\"\n",
    "birth = jumin[:6]   # 생일\n",
    "gender = jumin[6:]  # 성별\n",
    "print(birth)\n",
    "print(gender)"
   ]
  },
  {
   "cell_type": "code",
   "execution_count": 29,
   "metadata": {},
   "outputs": [
    {
     "name": "stdout",
     "output_type": "stream",
     "text": [
      "1980\n",
      "05\n",
      "27\n"
     ]
    }
   ],
   "source": [
    "# 태어난 년도, 월, 일\n",
    "year = \"19\" + jumin[:2]\n",
    "month = jumin[2:4]\n",
    "day = jumin[4:6]\n",
    "print(year)\n",
    "print(month)\n",
    "print(day)"
   ]
  },
  {
   "cell_type": "code",
   "execution_count": null,
   "metadata": {},
   "outputs": [],
   "source": []
  }
 ],
 "metadata": {
  "kernelspec": {
   "display_name": "Python 3",
   "language": "python",
   "name": "python3"
  },
  "language_info": {
   "codemirror_mode": {
    "name": "ipython",
    "version": 3
   },
   "file_extension": ".py",
   "mimetype": "text/x-python",
   "name": "python",
   "nbconvert_exporter": "python",
   "pygments_lexer": "ipython3",
   "version": "3.8.6"
  }
 },
 "nbformat": 4,
 "nbformat_minor": 4
}
