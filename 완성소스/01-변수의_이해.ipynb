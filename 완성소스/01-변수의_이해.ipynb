{
 "cells": [
  {
   "cell_type": "markdown",
   "metadata": {},
   "source": [
    "# 변수의 이해\n",
    "\n",
    "## 다양한 숫자형 변수의 정의"
   ]
  },
  {
   "cell_type": "code",
   "execution_count": 1,
   "metadata": {},
   "outputs": [
    {
     "name": "stdout",
     "output_type": "stream",
     "text": [
      "123\n",
      "-456\n"
     ]
    }
   ],
   "source": [
    "# 변수 만들기 (오른쪽에서 왼쪽으로 대입 -> 할당)\n",
    "# -> 이름 = 값\n",
    "a = 123\n",
    "b = -456\n",
    "print(a)\n",
    "print(b)"
   ]
  },
  {
   "cell_type": "code",
   "execution_count": 2,
   "metadata": {},
   "outputs": [
    {
     "name": "stdout",
     "output_type": "stream",
     "text": [
      "10000\n"
     ]
    }
   ],
   "source": [
    "# 한 번 할당된 변수는 다른 값으로 변경 가능\n",
    "a = 10000\n",
    "print(a)"
   ]
  },
  {
   "cell_type": "code",
   "execution_count": 3,
   "metadata": {},
   "outputs": [
    {
     "name": "stdout",
     "output_type": "stream",
     "text": [
      "1.2\n",
      "-3.45\n"
     ]
    }
   ],
   "source": [
    "# 실수형 변수 만들기\n",
    "c = 1.2\n",
    "d = -3.45\n",
    "print(c)\n",
    "print(d)"
   ]
  },
  {
   "cell_type": "code",
   "execution_count": 4,
   "metadata": {},
   "outputs": [
    {
     "name": "stdout",
     "output_type": "stream",
     "text": [
      "42400000000.0\n",
      "4.24e-10\n"
     ]
    }
   ],
   "source": [
    "# 지수형태(알파벳e 혹은 E사용)\n",
    "e = 4.24e10     # 4.24 * (10의 10제곱)\n",
    "f = 4.24e-10    # 4.24 * (10의 -10제곱)\n",
    "print(e)\n",
    "print(f)"
   ]
  },
  {
   "cell_type": "markdown",
   "metadata": {},
   "source": [
    "## 8진수, 16진수 표현\n",
    "\n",
    "출력시에는 10진수로 변환되어 출력된다."
   ]
  },
  {
   "cell_type": "code",
   "execution_count": 5,
   "metadata": {},
   "outputs": [
    {
     "name": "stdout",
     "output_type": "stream",
     "text": [
      "127\n"
     ]
    }
   ],
   "source": [
    "# 8진수 표현 (숫자0 + 알파벳o + 숫자값)\n",
    "g = 0o177\n",
    "print(g)"
   ]
  },
  {
   "cell_type": "code",
   "execution_count": 7,
   "metadata": {},
   "outputs": [
    {
     "name": "stdout",
     "output_type": "stream",
     "text": [
      "2748\n"
     ]
    }
   ],
   "source": [
    "# 16진수 표현 (숫자0 + 알파벳x + 숫자값)\n",
    "h = 0xABC\n",
    "print(h)"
   ]
  },
  {
   "cell_type": "markdown",
   "metadata": {},
   "source": [
    "## 복소수의 사용\n",
    "\n",
    "파이썬은 모든 변수가 객체로서 존재한다.\n",
    "\n",
    "우리는 단순한 값을 대입할 뿐이지만 파이썬이 그 값 하위에 다른 변수와 함수를 포함시킨다.\n",
    "\n",
    "복소수 자체 보다는 변수 “i”에 내장된 하위 변수나 함수를 사용하고 있다는 점에 주목."
   ]
  },
  {
   "cell_type": "code",
   "execution_count": 8,
   "metadata": {},
   "outputs": [
    {
     "name": "stdout",
     "output_type": "stream",
     "text": [
      "(1+2j)\n"
     ]
    }
   ],
   "source": [
    "# 복소수 (알파벳 j 사용)\n",
    "i = 1+2j\n",
    "print(i)"
   ]
  },
  {
   "cell_type": "code",
   "execution_count": 10,
   "metadata": {},
   "outputs": [
    {
     "name": "stdout",
     "output_type": "stream",
     "text": [
      "1.0\n"
     ]
    }
   ],
   "source": [
    "# 복소수의 실수 부분 조회 -> 객체 i에 포함되는 하위 변수에 접근\n",
    "print(i.real)"
   ]
  },
  {
   "cell_type": "code",
   "execution_count": 11,
   "metadata": {},
   "outputs": [
    {
     "name": "stdout",
     "output_type": "stream",
     "text": [
      "2.0\n"
     ]
    }
   ],
   "source": [
    "# 복소수의 허수부분 조회 -> 객체 i에 포함되는 하위 변수에 접근\n",
    "print(i.imag)"
   ]
  },
  {
   "cell_type": "code",
   "execution_count": 12,
   "metadata": {},
   "outputs": [
    {
     "name": "stdout",
     "output_type": "stream",
     "text": [
      "(1-2j)\n"
     ]
    }
   ],
   "source": [
    "# 복소수의 켤레복소수 -> 객체 i에 포함되는 하위 함수에 접근\n",
    "print(i.conjugate())"
   ]
  },
  {
   "cell_type": "markdown",
   "metadata": {},
   "source": [
    "## 논리형 변수와 논리값의 부정\n",
    "\n",
    "논리형 변수는 참(True)/거짓(False) 중 하나의 값을 저장할 수 있다."
   ]
  },
  {
   "cell_type": "code",
   "execution_count": 13,
   "metadata": {},
   "outputs": [
    {
     "name": "stdout",
     "output_type": "stream",
     "text": [
      "True\n"
     ]
    }
   ],
   "source": [
    "a = True        # 참을 의미하는 키워드 True를 a에 할당\n",
    "print(a)"
   ]
  },
  {
   "cell_type": "code",
   "execution_count": 14,
   "metadata": {},
   "outputs": [
    {
     "name": "stdout",
     "output_type": "stream",
     "text": [
      "False\n"
     ]
    }
   ],
   "source": [
    "b = False       # 거짓을 의미하는 키워드 False를 b에 할당\n",
    "print(b)"
   ]
  },
  {
   "cell_type": "code",
   "execution_count": 15,
   "metadata": {},
   "outputs": [
    {
     "name": "stdout",
     "output_type": "stream",
     "text": [
      "False\n"
     ]
    }
   ],
   "source": [
    "c = not a       # \"not\" 키워드는 부정을 의미한다. 참의 부정은 거짓\n",
    "print(c)"
   ]
  },
  {
   "cell_type": "code",
   "execution_count": 16,
   "metadata": {},
   "outputs": [
    {
     "name": "stdout",
     "output_type": "stream",
     "text": [
      "True\n"
     ]
    }
   ],
   "source": [
    "d = not b       # 거짓의 부정은 참\n",
    "print(d)"
   ]
  },
  {
   "cell_type": "code",
   "execution_count": null,
   "metadata": {},
   "outputs": [],
   "source": []
  }
 ],
 "metadata": {
  "kernelspec": {
   "display_name": "Python 3",
   "language": "python",
   "name": "python3"
  },
  "language_info": {
   "codemirror_mode": {
    "name": "ipython",
    "version": 3
   },
   "file_extension": ".py",
   "mimetype": "text/x-python",
   "name": "python",
   "nbconvert_exporter": "python",
   "pygments_lexer": "ipython3",
   "version": "3.8.6"
  }
 },
 "nbformat": 4,
 "nbformat_minor": 4
}
